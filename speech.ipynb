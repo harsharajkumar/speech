{
 "cells": [
  {
   "cell_type": "code",
   "execution_count": 23,
   "metadata": {},
   "outputs": [],
   "source": [
    "#brew install portaudio\n",
    "#!pip install pyaudio\n"
   ]
  },
  {
   "cell_type": "code",
   "execution_count": 24,
   "metadata": {},
   "outputs": [],
   "source": [
    "#!pip --version\n"
   ]
  },
  {
   "cell_type": "code",
   "execution_count": 25,
   "metadata": {},
   "outputs": [
    {
     "name": "stdout",
     "output_type": "stream",
     "text": [
      "/Applications/ms/.venv/lib/python3.12/site-packages/certifi/cacert.pem\n"
     ]
    }
   ],
   "source": [
    "import certifi\n",
    "print(certifi.where())"
   ]
  },
  {
   "cell_type": "code",
   "execution_count": 26,
   "metadata": {},
   "outputs": [
    {
     "name": "stdout",
     "output_type": "stream",
     "text": [
      "Requirement already satisfied: requests in /Applications/ms/.venv/lib/python3.12/site-packages (2.32.3)\n",
      "Requirement already satisfied: charset-normalizer<4,>=2 in /Applications/ms/.venv/lib/python3.12/site-packages (from requests) (3.3.2)\n",
      "Requirement already satisfied: idna<4,>=2.5 in /Applications/ms/.venv/lib/python3.12/site-packages (from requests) (3.7)\n",
      "Requirement already satisfied: urllib3<3,>=1.21.1 in /Applications/ms/.venv/lib/python3.12/site-packages (from requests) (2.2.2)\n",
      "Requirement already satisfied: certifi>=2017.4.17 in /Applications/ms/.venv/lib/python3.12/site-packages (from requests) (2024.7.4)\n",
      "Note: you may need to restart the kernel to use updated packages.\n"
     ]
    }
   ],
   "source": [
    "pip install requests"
   ]
  },
  {
   "cell_type": "code",
   "execution_count": 27,
   "metadata": {},
   "outputs": [
    {
     "name": "stdout",
     "output_type": "stream",
     "text": [
      "<!doctype html>\n",
      "<html>\n",
      "<head>\n",
      "    <title>Example Domain</title>\n",
      "\n",
      "    <meta charset=\"utf-8\" />\n",
      "    <meta http-equiv=\"Content-type\" content=\"text/html; charset=utf-8\" />\n",
      "    <meta name=\"viewport\" content=\"width=device-width, initial-scale=1\" />\n",
      "    <style type=\"text/css\">\n",
      "    body {\n",
      "        background-color: #f0f0f2;\n",
      "        margin: 0;\n",
      "        padding: 0;\n",
      "        font-family: -apple-system, system-ui, BlinkMacSystemFont, \"Segoe UI\", \"Open Sans\", \"Helvetica Neue\", Helvetica, Arial, sans-serif;\n",
      "        \n",
      "    }\n",
      "    div {\n",
      "        width: 600px;\n",
      "        margin: 5em auto;\n",
      "        padding: 2em;\n",
      "        background-color: #fdfdff;\n",
      "        border-radius: 0.5em;\n",
      "        box-shadow: 2px 3px 7px 2px rgba(0,0,0,0.02);\n",
      "    }\n",
      "    a:link, a:visited {\n",
      "        color: #38488f;\n",
      "        text-decoration: none;\n",
      "    }\n",
      "    @media (max-width: 700px) {\n",
      "        div {\n",
      "            margin: 0 auto;\n",
      "            width: auto;\n",
      "        }\n",
      "    }\n",
      "    </style>    \n",
      "</head>\n",
      "\n",
      "<body>\n",
      "<div>\n",
      "    <h1>Example Domain</h1>\n",
      "    <p>This domain is for use in illustrative examples in documents. You may use this\n",
      "    domain in literature without prior coordination or asking for permission.</p>\n",
      "    <p><a href=\"https://www.iana.org/domains/example\">More information...</a></p>\n",
      "</div>\n",
      "</body>\n",
      "</html>\n",
      "\n"
     ]
    }
   ],
   "source": [
    "import requests\n",
    "\n",
    "try:\n",
    "    response = requests.get('https://www.example.com')\n",
    "    print(response.text)\n",
    "except Exception as e:\n",
    "    print(e)"
   ]
  },
  {
   "cell_type": "code",
   "execution_count": 28,
   "metadata": {},
   "outputs": [
    {
     "name": "stdout",
     "output_type": "stream",
     "text": [
      "Requirement already satisfied: package-name in /Applications/ms/.venv/lib/python3.12/site-packages (0.1)\n",
      "Note: you may need to restart the kernel to use updated packages.\n"
     ]
    }
   ],
   "source": [
    "pip install --trusted-host pypi.org --trusted-host files.pythonhosted.org package-name"
   ]
  },
  {
   "cell_type": "code",
   "execution_count": null,
   "metadata": {},
   "outputs": [],
   "source": []
  },
  {
   "cell_type": "code",
   "execution_count": 29,
   "metadata": {},
   "outputs": [],
   "source": [
    "import numpy as np\n",
    "import pyaudio\n",
    "import whisper\n",
    "import language_tool_python\n",
    "import time\n",
    "import keyboard  "
   ]
  },
  {
   "cell_type": "code",
   "execution_count": 30,
   "metadata": {},
   "outputs": [],
   "source": [
    "# Load the Whisper model\n",
    "model = whisper.load_model(\"base\")  # You can choose \"small\", \"medium\", \"large\", etc."
   ]
  },
  {
   "cell_type": "code",
   "execution_count": 31,
   "metadata": {},
   "outputs": [],
   "source": [
    "# Initialize the LanguageTool API\n",
    "lt_api = language_tool_python.LanguageTool('en-US')\n"
   ]
  },
  {
   "cell_type": "code",
   "execution_count": 32,
   "metadata": {},
   "outputs": [],
   "source": [
    "sampling_rate = 16000\n",
    "buffer_size = 4096\n",
    "\n",
    "# Initialize the PyAudio library\n",
    "pa = pyaudio.PyAudio()\n",
    "\n",
    "# Open the microphone stream\n",
    "stream = pa.open(format=pyaudio.paFloat32,  # Changed to paFloat32\n",
    "                 channels=1,\n",
    "                 rate=sampling_rate,\n",
    "                 input=True,\n",
    "                 frames_per_buffer=buffer_size)\n"
   ]
  },
  {
   "cell_type": "code",
   "execution_count": 33,
   "metadata": {},
   "outputs": [
    {
     "name": "stdout",
     "output_type": "stream",
     "text": [
      "Listening... Press 'q' to stop.\n",
      "Transcription:  \n",
      "Stopping...\n",
      "Resources released.\n"
     ]
    }
   ],
   "source": [
    "# Define a function to correct text using NLP techniques\n",
    "def correct_text(text):\n",
    "    corrected_text = lt_api.correct(text)\n",
    "    return corrected_text\n",
    "\n",
    "# Real-time audio processing and transcription\n",
    "try:\n",
    "    print(\"Listening... Press 'q' to stop.\")\n",
    "\n",
    "    frames = []\n",
    "\n",
    "    while True:\n",
    "        # Capture audio data in chunks\n",
    "        for i in range(0, int(sampling_rate / buffer_size)):\n",
    "            try:\n",
    "                data = stream.read(buffer_size, exception_on_overflow=False)\n",
    "                frames.append(data)\n",
    "            except Exception as e:\n",
    "                print(f\"Error capturing audio: {e}\")\n",
    "                continue\n",
    "\n",
    "        # Convert the byte data to numpy array\n",
    "        audio_data = np.frombuffer(b''.join(frames), dtype=np.float32)\n",
    "\n",
    "        # Perform speech-to-text using Whisper\n",
    "        result = model.transcribe(audio_data, language='en')  # Specify the language if needed\n",
    "        text = result['text']\n",
    "\n",
    "        # Correct the transcribed text\n",
    "        corrected_text = correct_text(text)\n",
    "\n",
    "        # Print the corrected text\n",
    "        print(\"Transcription: \", corrected_text)\n",
    "\n",
    "        # Check if the user presses 'q' to stop listening\n",
    "        key = input(\"Press 'q' to stop or any other key to continue: \")\n",
    "        if key.lower() == 'q':\n",
    "            print(\"Stopping...\")\n",
    "            break\n",
    "\n",
    "        time.sleep(1)\n",
    "\n",
    "except KeyboardInterrupt:\n",
    "    print(\"Stopping...\")\n",
    "\n",
    "finally:\n",
    "    # Close the stream gracefully\n",
    "    stream.stop_stream()\n",
    "    stream.close()\n",
    "    pa.terminate()\n",
    "    print(\"Resources released.\")"
   ]
  },
  {
   "cell_type": "code",
   "execution_count": null,
   "metadata": {},
   "outputs": [],
   "source": []
  }
 ],
 "metadata": {
  "kernelspec": {
   "display_name": ".venv",
   "language": "python",
   "name": "python3"
  },
  "language_info": {
   "codemirror_mode": {
    "name": "ipython",
    "version": 3
   },
   "file_extension": ".py",
   "mimetype": "text/x-python",
   "name": "python",
   "nbconvert_exporter": "python",
   "pygments_lexer": "ipython3",
   "version": "3.12.0"
  }
 },
 "nbformat": 4,
 "nbformat_minor": 2
}
