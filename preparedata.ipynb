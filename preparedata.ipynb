{
 "cells": [
  {
   "cell_type": "markdown",
   "metadata": {},
   "source": [
    "Python library librosa, which is a tool for analyzing and processing audio signals.\n",
    "\n"
   ]
  },
  {
   "cell_type": "code",
   "execution_count": 4,
   "metadata": {},
   "outputs": [
    {
     "ename": "ModuleNotFoundError",
     "evalue": "No module named 'deepspeech'",
     "output_type": "error",
     "traceback": [
      "\u001b[0;31m---------------------------------------------------------------------------\u001b[0m",
      "\u001b[0;31mModuleNotFoundError\u001b[0m                       Traceback (most recent call last)",
      "Cell \u001b[0;32mIn[4], line 4\u001b[0m\n\u001b[1;32m      2\u001b[0m \u001b[38;5;28;01mimport\u001b[39;00m \u001b[38;5;21;01mlibrosa\u001b[39;00m\n\u001b[1;32m      3\u001b[0m \u001b[38;5;28;01mimport\u001b[39;00m \u001b[38;5;21;01mnumpy\u001b[39;00m \u001b[38;5;28;01mas\u001b[39;00m \u001b[38;5;21;01mnp\u001b[39;00m\n\u001b[0;32m----> 4\u001b[0m \u001b[38;5;28;01mimport\u001b[39;00m \u001b[38;5;21;01mdeepspeech\u001b[39;00m\n\u001b[1;32m      5\u001b[0m \u001b[38;5;28;01mimport\u001b[39;00m \u001b[38;5;21;01mpyaudio\u001b[39;00m\n\u001b[1;32m      6\u001b[0m \u001b[38;5;28;01mimport\u001b[39;00m \u001b[38;5;21;01mwave\u001b[39;00m\n",
      "\u001b[0;31mModuleNotFoundError\u001b[0m: No module named 'deepspeech'"
     ]
    }
   ],
   "source": [
    "import os\n",
    "import librosa\n",
    "import numpy as np\n",
    "import deepspeech\n",
    "import pyaudio\n",
    "import wave\n",
    "import language_tool_python\n",
    "import nltk\n"
   ]
  },
  {
   "cell_type": "code",
   "execution_count": 3,
   "metadata": {},
   "outputs": [
    {
     "name": "stdout",
     "output_type": "stream",
     "text": [
      "Requirement already satisfied: librosa in /Applications/ms/.venv/lib/python3.12/site-packages (0.10.2.post1)\n",
      "Requirement already satisfied: audioread>=2.1.9 in /Applications/ms/.venv/lib/python3.12/site-packages (from librosa) (3.0.1)\n",
      "Requirement already satisfied: numpy!=1.22.0,!=1.22.1,!=1.22.2,>=1.20.3 in /Applications/ms/.venv/lib/python3.12/site-packages (from librosa) (1.26.4)\n",
      "Requirement already satisfied: scipy>=1.2.0 in /Applications/ms/.venv/lib/python3.12/site-packages (from librosa) (1.14.0)\n",
      "Requirement already satisfied: scikit-learn>=0.20.0 in /Applications/ms/.venv/lib/python3.12/site-packages (from librosa) (1.5.1)\n",
      "Requirement already satisfied: joblib>=0.14 in /Applications/ms/.venv/lib/python3.12/site-packages (from librosa) (1.4.2)\n",
      "Requirement already satisfied: decorator>=4.3.0 in /Applications/ms/.venv/lib/python3.12/site-packages (from librosa) (5.1.1)\n",
      "Requirement already satisfied: numba>=0.51.0 in /Applications/ms/.venv/lib/python3.12/site-packages (from librosa) (0.60.0)\n",
      "Requirement already satisfied: soundfile>=0.12.1 in /Applications/ms/.venv/lib/python3.12/site-packages (from librosa) (0.12.1)\n",
      "Requirement already satisfied: pooch>=1.1 in /Applications/ms/.venv/lib/python3.12/site-packages (from librosa) (1.8.2)\n",
      "Requirement already satisfied: soxr>=0.3.2 in /Applications/ms/.venv/lib/python3.12/site-packages (from librosa) (0.4.0)\n",
      "Requirement already satisfied: typing-extensions>=4.1.1 in /Applications/ms/.venv/lib/python3.12/site-packages (from librosa) (4.12.2)\n",
      "Requirement already satisfied: lazy-loader>=0.1 in /Applications/ms/.venv/lib/python3.12/site-packages (from librosa) (0.4)\n",
      "Requirement already satisfied: msgpack>=1.0 in /Applications/ms/.venv/lib/python3.12/site-packages (from librosa) (1.0.8)\n",
      "Requirement already satisfied: packaging in /Applications/ms/.venv/lib/python3.12/site-packages (from lazy-loader>=0.1->librosa) (24.1)\n",
      "Requirement already satisfied: llvmlite<0.44,>=0.43.0dev0 in /Applications/ms/.venv/lib/python3.12/site-packages (from numba>=0.51.0->librosa) (0.43.0)\n",
      "Requirement already satisfied: platformdirs>=2.5.0 in /Applications/ms/.venv/lib/python3.12/site-packages (from pooch>=1.1->librosa) (4.2.2)\n",
      "Requirement already satisfied: requests>=2.19.0 in /Applications/ms/.venv/lib/python3.12/site-packages (from pooch>=1.1->librosa) (2.32.3)\n",
      "Requirement already satisfied: threadpoolctl>=3.1.0 in /Applications/ms/.venv/lib/python3.12/site-packages (from scikit-learn>=0.20.0->librosa) (3.5.0)\n",
      "Requirement already satisfied: cffi>=1.0 in /Applications/ms/.venv/lib/python3.12/site-packages (from soundfile>=0.12.1->librosa) (1.16.0)\n",
      "Requirement already satisfied: pycparser in /Applications/ms/.venv/lib/python3.12/site-packages (from cffi>=1.0->soundfile>=0.12.1->librosa) (2.22)\n",
      "Requirement already satisfied: charset-normalizer<4,>=2 in /Applications/ms/.venv/lib/python3.12/site-packages (from requests>=2.19.0->pooch>=1.1->librosa) (3.3.2)\n",
      "Requirement already satisfied: idna<4,>=2.5 in /Applications/ms/.venv/lib/python3.12/site-packages (from requests>=2.19.0->pooch>=1.1->librosa) (3.7)\n",
      "Requirement already satisfied: urllib3<3,>=1.21.1 in /Applications/ms/.venv/lib/python3.12/site-packages (from requests>=2.19.0->pooch>=1.1->librosa) (2.2.2)\n",
      "Requirement already satisfied: certifi>=2017.4.17 in /Applications/ms/.venv/lib/python3.12/site-packages (from requests>=2.19.0->pooch>=1.1->librosa) (2024.7.4)\n",
      "Note: you may need to restart the kernel to use updated packages.\n"
     ]
    }
   ],
   "source": [
    "\n",
    "pip install librosa"
   ]
  },
  {
   "cell_type": "code",
   "execution_count": 3,
   "metadata": {},
   "outputs": [],
   "source": [
    "import os\n",
    "import librosa\n",
    "import numpy as np\n",
    "\n",
    "# Set the path to the Common Voice dataset\n",
    "data_dir = \"/Applications/ms/speech/clips\"\n",
    "\n",
    "# Set the path to save the preprocessed data\n",
    "save_dir = \"/Applications/ms/speech/d1\"\n",
    "\n",
    "# Set the sampling rate (Hz) and duration (seconds) for the audio\n",
    "sampling_rate = 16000\n",
    "duration = 5\n",
    "\n",
    "# Loop over each file in the Common Voice dataset\n",
    "for subdir in os.listdir(data_dir):\n",
    "    subpath = os.path.join(data_dir, subdir)\n",
    "    if not os.path.isdir(subpath):\n",
    "        continue\n",
    "    for filename in os.listdir(subpath):\n",
    "        if not filename.endswith(\".mp3\"):\n",
    "            continue\n",
    "        filepath = os.path.join(subpath, filename)\n",
    "        # Load the audio file\n",
    "        y, sr = librosa.load(filepath, sr=sampling_rate, duration=duration)\n",
    "        # Save the preprocessed audio file\n",
    "        save_path = os.path.join(save_dir, subdir, filename[:-4] + \".npy\")\n",
    "        os.makedirs(os.path.dirname(save_path), exist_ok=True)\n",
    "        np.save(save_path, y)"
   ]
  },
  {
   "cell_type": "code",
   "execution_count": 2,
   "metadata": {},
   "outputs": [
    {
     "name": "stdout",
     "output_type": "stream",
     "text": [
      "\u001b[31mERROR: Could not find a version that satisfies the requirement deepspeech (from versions: none)\u001b[0m\u001b[31m\n",
      "\u001b[0m\u001b[31mERROR: No matching distribution found for deepspeech\u001b[0m\u001b[31m\n",
      "\u001b[0mNote: you may need to restart the kernel to use updated packages.\n"
     ]
    }
   ],
   "source": [
    "pip install deepspeech"
   ]
  },
  {
   "cell_type": "code",
   "execution_count": null,
   "metadata": {},
   "outputs": [],
   "source": [
    "import os\n",
    "import numpy as np\n",
    "import deepspeech\n",
    "\n",
    "# Set the path to the preprocessed data\n",
    "data_dir = \"/path/to/preprocessed-data\"\n",
    "\n",
    "# Set the path to the trained model\n",
    "model_dir = \"/path/to/trained-model\"\n",
    "\n",
    "# Set the hyperparameters for training the model\n",
    "alphabet = deepspeech.Alphabet(os.path.join(deepspeech.Model.getDefaultModelPath(), \"alphabet.txt\"))\n",
    "lm = deepspeech.LanguageModel(os.path.join(deepspeech.Model.getDefaultModelPath(), \"lm.binary\"))\n",
    "trie = deepspeech.Trie(os.path.join(deepspeech.Model.getDefaultModelPath(), \"trie\"))\n",
    "ds = deepspeech.Model(os.path.join(deepspeech.Model.getDefaultModelPath(), \"deepspeech-0.9.3-models.pbmm\"))\n",
    "ds.enableExternalScorer(lm)\n",
    "beam_width = 500\n",
    "lm_alpha = 0.75\n",
    "lm_beta = 1.85\n",
    "n_features = 26\n",
    "n_context = 9\n",
    "batch_size = 32\n",
    "n_epochs = 20\n",
    "learning_rate = 0.0001\n",
    "\n",
    "# Load the preprocessed data\n",
    "X = []\n",
    "y = []\n",
    "for subdir in os.listdir(data_dir):\n",
    "    subpath = os.path.join(data_dir, subdir)\n",
    "    if not os.path.isdir(subpath):\n",
    "        continue\n",
    "    for filename in os.listdir(subpath):\n",
    "        if not filename.endswith(\".npy\"):\n",
    "            continue\n",
    "        filepath = os.path.join(subpath, filename)\n",
    "        # Load the preprocessed audio file\n",
    "        X.append(np.load(filepath))\n",
    "        # Load the corresponding transcription\n",
    "        with open(os.path.join(subpath, filename[:-4] + \".txt\")) as f:\n",
    "            text = f.read().strip()\n",
    "            y.append(text)\n",
    "\n",
    "# Train the speech recognition model\n",
    "for epoch in range(n_epochs):\n",
    "    print(\"Epoch\", epoch + 1)\n",
    "    for i in range(0, len(X), batch_size):\n",
    "        batch_X = X[i:i+batch_size]\n",
    "        batch_y = y[i:i+batch_size]\n",
    "        batch_len = [len(x) for x in batch_X]\n",
    "        batch_X = [ds.stt(x, sampling_rate) for x in batch_X]\n",
    "        ds.trainBatch(batch_X, batch_len, batch_y, learning_rate, beam_width, lm_alpha, lm_beta, alphabet, lm, trie, n_features, n_context)\n",
    "    ds.save(os.path.join(model_dir, \"epoch{}.pb\".format(epoch + 1)))\n"
   ]
  },
  {
   "cell_type": "code",
   "execution_count": null,
   "metadata": {},
   "outputs": [],
   "source": [
    "import os\n",
    "import nltk\n",
    "import language_tool_python\n",
    "\n",
    "# Set the path to the trained speech recognition model\n",
    "model_dir = \"/path/to/trained-model\"\n",
    "\n",
    "# Load the trained speech recognition model\n",
    "ds = deepspeech.Model(os.path.join(model_dir, \"final.pb\"))\n",
    "\n",
    "# Initialize the LanguageTool API\n",
    "lt_api = language_tool_python.LanguageTool('en-US')\n",
    "\n",
    "# Define a function to correct text using NLP techniques\n",
    "def correct_text(text):\n",
    "    # Use the speech recognition model to transcribe the text\n",
    "    transcription = ds.stt(text)\n",
    "    # Use LanguageTool to correct the transcription\n",
    "    corrected_text = lt_api.correct(transcription)\n",
    "    return corrected_text"
   ]
  },
  {
   "cell_type": "code",
   "execution_count": null,
   "metadata": {},
   "outputs": [],
   "source": [
    "import pyaudio\n",
    "import wave\n",
    "\n",
    "# Set the path to the trained speech recognition model\n",
    "model_dir = \"/path/to/trained-model\"\n",
    "\n",
    "# Load the trained speech recognition model\n",
    "ds = deepspeech.Model(os.path.join(model_dir, \"final.pb\"))\n",
    "\n",
    "# Define the sampling rate and duration of the audio input\n",
    "sampling_rate = 16000\n",
    "duration = 5\n",
    "\n",
    "# Initialize the PyAudio library\n",
    "pa = pyaudio.PyAudio()\n",
    "\n",
    "# Open the microphone for audio input\n",
    "stream = pa.open(format=pyaudio.paInt16, channels=1, rate=sampling_rate, input=True, frames_per_buffer=1024)\n",
    "\n",
    "# Record audio for the specified duration\n",
    "frames = []\n",
    "for i in range(0, int(sampling_rate / 1024 * duration)):\n",
    "    data = stream.read(1024)\n",
    "    frames.append(data)\n",
    "\n",
    "# Close the microphone\n",
    "stream.stop_stream()\n",
    "stream.close()\n",
    "pa.terminate()\n",
    "\n",
    "# Save the recorded audio to a WAV file\n",
    "wf = wave.open(\"test.wav\", \"wb\")\n",
    "wf.setnchannels(1)\n",
    "wf.setsampwidth(pa.get_sample_size(pyaudio.paInt16))\n",
    "wf.setframerate(sampling_rate)\n",
    "wf.writeframes(b\"\".join(frames))\n",
    "wf.close()\n",
    "\n",
    "# Load the recorded audio from the WAV file\n",
    "with open(\"test.wav\", \"rb\") as f:\n",
    "    audio_data = f.read()\n",
    "\n",
    "# Use the speech recognition model to transcribe the audio\n",
    "transcription = ds.stt(audio_data, sampling_rate)\n",
    "\n",
    "# Correct any errors in the transcription using NLP techniques\n",
    "corrected_text = correct_text(transcription)\n",
    "\n",
    "# Print the corrected text\n",
    "print(corrected_text)\n"
   ]
  }
 ],
 "metadata": {
  "kernelspec": {
   "display_name": ".venv",
   "language": "python",
   "name": "python3"
  },
  "language_info": {
   "codemirror_mode": {
    "name": "ipython",
    "version": 3
   },
   "file_extension": ".py",
   "mimetype": "text/x-python",
   "name": "python",
   "nbconvert_exporter": "python",
   "pygments_lexer": "ipython3",
   "version": "3.12.0"
  }
 },
 "nbformat": 4,
 "nbformat_minor": 2
}
